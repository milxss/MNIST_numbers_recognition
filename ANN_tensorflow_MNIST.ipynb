{
  "nbformat": 4,
  "nbformat_minor": 0,
  "metadata": {
    "colab": {
      "name": "ANN_tensorflow MNIST",
      "provenance": [],
      "authorship_tag": "ABX9TyPVvOeOvMleTC/ujOIbiAHP"
    },
    "kernelspec": {
      "name": "python3",
      "display_name": "Python 3"
    }
  },
  "cells": [
    {
      "cell_type": "code",
      "metadata": {
        "id": "HTYuws2qceUT"
      },
      "source": [
        "import tensorflow as tf\n",
        "from tensorflow.keras import datasets\n",
        "import numpy as np\n",
        "import matplotlib.pyplot as plt"
      ],
      "execution_count": null,
      "outputs": []
    },
    {
      "cell_type": "code",
      "metadata": {
        "colab": {
          "base_uri": "https://localhost:8080/"
        },
        "id": "5YKHNd1MdQBW",
        "outputId": "4f5c10fa-8a19-4ab0-9091-5a7197b3899b"
      },
      "source": [
        "print(tf.__version__)"
      ],
      "execution_count": null,
      "outputs": [
        {
          "output_type": "stream",
          "text": [
            "2.4.1\n"
          ],
          "name": "stdout"
        }
      ]
    },
    {
      "cell_type": "code",
      "metadata": {
        "id": "ljWPXWAceEsF"
      },
      "source": [
        "mnist = datasets.mnist\n",
        "(x_train, y_train), (x_test, y_test) = mnist.load_data()"
      ],
      "execution_count": null,
      "outputs": []
    },
    {
      "cell_type": "code",
      "metadata": {
        "colab": {
          "base_uri": "https://localhost:8080/",
          "height": 170
        },
        "id": "80Od44budTto",
        "outputId": "dd496e78-a297-477f-e6b0-540a34322584"
      },
      "source": [
        "plt.figure(figsize=(10,2))\n",
        "for index, (image, label) in enumerate(zip(x_train[0:5], y_train[0:5])):  #enumerate is like a counter \n",
        "  plt.subplot(1,5, index + 1)\n",
        "  plt.imshow(np.reshape(image, (28,28)), cmap=plt.cm.gray)\n",
        "  plt.title('Training: ​​​​​​{}\\n'.format(label), fontsize =10)"
      ],
      "execution_count": 21,
      "outputs": [
        {
          "output_type": "display_data",
          "data": {
            "image/png": "[encoded data removed]",
            "text/plain": [
              "<Figure size 720x144 with 5 Axes>"
            ]
          },
          "metadata": {
            "tags": [],
            "needs_background": "light"
          }
        }
      ]
    },
    {
      "cell_type": "code",
      "metadata": {
        "id": "lPzRktplhaiF"
      },
      "source": [
        "#Convert data from integers to floating-point numbers (between 0 and 1)\n",
        "x_train, x_test = x_train / 255.0, x_test /255.0"
      ],
      "execution_count": 17,
      "outputs": []
    },
    {
      "cell_type": "code",
      "metadata": {
        "id": "GJMZlZGneQGh"
      },
      "source": [
        "#Build the tf.keras.Sequential model by adding a layer after another\n",
        "import keras \n",
        "from tensorflow.keras.models import Sequential\n",
        "model = Sequential()\n",
        "from tensorflow.keras.layers import Dense\n",
        "model.add(tf.keras.layers.Flatten(input_shape=(28,28)))\n",
        "model.add(tf.keras.layers.Dense(units=128, activation = 'relu'))\n",
        "model.add(tf.keras.layers.Dropout(0.2))\n",
        "model.add(tf.keras.layers.Dense(10, activation='softmax'))"
      ],
      "execution_count": 18,
      "outputs": []
    },
    {
      "cell_type": "code",
      "metadata": {
        "id": "jXGmtxKpgymF"
      },
      "source": [
        "model.compile(loss='sparse_categorical_crossentropy',   #we use sparse categorical entropy\n",
        "              optimizer= 'adam',\n",
        "              metrics = ['accuracy']) #we want to use adam optimizer"
      ],
      "execution_count": 25,
      "outputs": []
    },
    {
      "cell_type": "code",
      "metadata": {
        "colab": {
          "base_uri": "https://localhost:8080/"
        },
        "id": "Skt4UiFLis2b",
        "outputId": "1e3c7fee-2c59-46f1-f6a3-42b491e8a6bd"
      },
      "source": [
        "model.fit(x_train, y_train, epochs=15)"
      ],
      "execution_count": 30,
      "outputs": [
        {
          "output_type": "stream",
          "text": [
            "Epoch 1/15\n",
            "1875/1875 [==============================] - 4s 2ms/step - loss: 0.2077 - accuracy: 0.9394\n",
            "Epoch 2/15\n",
            "1875/1875 [==============================] - 4s 2ms/step - loss: 0.2003 - accuracy: 0.9423\n",
            "Epoch 3/15\n",
            "1875/1875 [==============================] - 4s 2ms/step - loss: 0.1917 - accuracy: 0.9441\n",
            "Epoch 4/15\n",
            "1875/1875 [==============================] - 4s 2ms/step - loss: 0.1859 - accuracy: 0.9459\n",
            "Epoch 5/15\n",
            "1875/1875 [==============================] - 4s 2ms/step - loss: 0.1808 - accuracy: 0.9481\n",
            "Epoch 6/15\n",
            "1875/1875 [==============================] - 4s 2ms/step - loss: 0.1763 - accuracy: 0.9492\n",
            "Epoch 7/15\n",
            "1875/1875 [==============================] - 4s 2ms/step - loss: 0.1708 - accuracy: 0.9497\n",
            "Epoch 8/15\n",
            "1875/1875 [==============================] - 4s 2ms/step - loss: 0.1653 - accuracy: 0.9522\n",
            "Epoch 9/15\n",
            "1875/1875 [==============================] - 4s 2ms/step - loss: 0.1626 - accuracy: 0.9530\n",
            "Epoch 10/15\n",
            "1875/1875 [==============================] - 4s 2ms/step - loss: 0.1577 - accuracy: 0.9544\n",
            "Epoch 11/15\n",
            "1875/1875 [==============================] - 4s 2ms/step - loss: 0.1532 - accuracy: 0.9554\n",
            "Epoch 12/15\n",
            "1875/1875 [==============================] - 4s 2ms/step - loss: 0.1510 - accuracy: 0.9561\n",
            "Epoch 13/15\n",
            "1875/1875 [==============================] - 4s 2ms/step - loss: 0.1454 - accuracy: 0.9580\n",
            "Epoch 14/15\n",
            "1875/1875 [==============================] - 4s 2ms/step - loss: 0.1432 - accuracy: 0.9585\n",
            "Epoch 15/15\n",
            "1875/1875 [==============================] - 4s 2ms/step - loss: 0.1393 - accuracy: 0.9593\n"
          ],
          "name": "stdout"
        },
        {
          "output_type": "execute_result",
          "data": {
            "text/plain": [
              "<tensorflow.python.keras.callbacks.History at 0x7fa03ce54f10>"
            ]
          },
          "metadata": {
            "tags": []
          },
          "execution_count": 30
        }
      ]
    },
    {
      "cell_type": "code",
      "metadata": {
        "colab": {
          "base_uri": "https://localhost:8080/"
        },
        "id": "SQmh6SfRkoKm",
        "outputId": "26e5bf0b-9367-4e8c-f2c4-e67162cc822a"
      },
      "source": [
        "loss, accuracy = model.evaluate(x_test, y_test)"
      ],
      "execution_count": 34,
      "outputs": [
        {
          "output_type": "stream",
          "text": [
            "313/313 [==============================] - 0s 1ms/step - loss: 0.1240 - accuracy: 0.9637\n"
          ],
          "name": "stdout"
        }
      ]
    },
    {
      "cell_type": "code",
      "metadata": {
        "colab": {
          "base_uri": "https://localhost:8080/"
        },
        "id": "bmFn05g8lS1t",
        "outputId": "cd439fee-a764-4152-ba55-d1889f907e55"
      },
      "source": [
        "from sklearn import metrics\n",
        "predictions = model.predict(x_test)\n",
        "print(predictions)\n",
        "\n",
        "#to get the classes:\n",
        "classes = np.argmax(predictions, axis = 1)\n",
        "print(classes)"
      ],
      "execution_count": 33,
      "outputs": [
        {
          "output_type": "stream",
          "text": [
            "[[2.0036641e-06 3.6439116e-09 4.8956816e-05 ... 9.9811351e-01\n",
            "  9.0810727e-07 3.2907163e-05]\n",
            " [2.1454149e-05 2.8358409e-04 9.9859649e-01 ... 6.1176417e-13\n",
            "  1.4573913e-04 1.5993683e-13]\n",
            " [1.2082522e-06 9.9278814e-01 1.1700938e-03 ... 2.3193599e-03\n",
            "  2.6753012e-03 1.3600152e-05]\n",
            " ...\n",
            " [1.3607342e-10 1.3755050e-08 3.5456459e-08 ... 9.2474489e-05\n",
            "  2.4985572e-04 3.5530308e-03]\n",
            " [6.0907587e-07 5.7204811e-06 2.2531735e-08 ... 4.2527059e-08\n",
            "  8.0888001e-03 6.7314566e-08]\n",
            " [3.4012803e-06 7.3241690e-12 8.4572253e-05 ... 5.2283629e-11\n",
            "  1.9413208e-06 4.9639994e-09]]\n",
            "[7 2 1 ... 4 5 6]\n"
          ],
          "name": "stdout"
        }
      ]
    },
    {
      "cell_type": "code",
      "metadata": {
        "colab": {
          "base_uri": "https://localhost:8080/",
          "height": 170
        },
        "id": "A0o6RRlbmTPX",
        "outputId": "491b1b6f-5e1a-4376-9cae-4b9cd68e192a"
      },
      "source": [
        "#visualize\n",
        "plt.figure(figsize=(10,2))\n",
        "for index, (image, label) in enumerate(zip(x_test[0:5], y_test[0:5])):  #enumerate is like a counter \n",
        "  plt.subplot(1,5, index + 1)\n",
        "  plt.imshow(np.reshape(image, (28,28)), cmap=plt.cm.gray)\n",
        "  plt.title('Training: ​​​​​​{}\\n'.format(label), fontsize =10)"
      ],
      "execution_count": 35,
      "outputs": [
        {
          "output_type": "display_data",
          "data": {
            "image/png": "[encoded data removed]",
            "text/plain": [
              "<Figure size 720x144 with 5 Axes>"
            ]
          },
          "metadata": {
            "tags": [],
            "needs_background": "light"
          }
        }
      ]
    },
    {
      "cell_type": "code",
      "metadata": {
        "colab": {
          "base_uri": "https://localhost:8080/",
          "height": 543
        },
        "id": "jTMeYIsDmzuV",
        "outputId": "8cc663a7-965c-493e-b24a-633158cc4bdb"
      },
      "source": [
        "import seaborn as sns\n",
        "from sklearn.metrics import confusion_matrix\n",
        "cm = metrics.confusion_matrix(y_test, classes, normalize='true')\n",
        "plt.figure(figsize=(9,9))\n",
        "sns.heatmap(cm, annot=True, fmt=\".3f\", linewidths=.5, square=True, cmap = 'Blues_r');\n",
        "plt.ylabel('Actual label')\n",
        "plt.xlabel('Predicted label')\n",
        "all_sample_title = 'Accuracy = {0}'.format(accuracy)\n",
        "plt.title(all_sample_title, size=15)"
      ],
      "execution_count": 41,
      "outputs": [
        {
          "output_type": "execute_result",
          "data": {
            "text/plain": [
              "Text(0.5, 1.0, 'Accuracy = 0.963699996471405')"
            ]
          },
          "metadata": {
            "tags": []
          },
          "execution_count": 41
        },
        {
          "output_type": "display_data",
          "data": {
            "image/png": "[encoded data removed]",
            "text/plain": [
              "<Figure size 648x648 with 2 Axes>"
            ]
          },
          "metadata": {
            "tags": [],
            "needs_background": "light"
          }
        }
      ]
    },
    {
      "cell_type": "code",
      "metadata": {
        "colab": {
          "base_uri": "https://localhost:8080/"
        },
        "id": "yi3SM8Dsnl_q",
        "outputId": "93f17354-3aa2-4ad0-b7fa-97563802644c"
      },
      "source": [
        "#callbacks : a callback performs actions at various stages of training \n",
        "#eg Early Stopping\n",
        "\n",
        "from tensorflow.keras.callbacks import EarlyStopping, ModelCheckpoint\n",
        "early_stopping = EarlyStopping(monitor='val_loss',patience=5) \n",
        "#patience = the number of epochs to wait before stopping\n",
        "\n",
        "#we want to save the best model, e.g. 5 echos before it stopped\n",
        "callbacks = [early_stopping, ModelCheckpoint(filepath='best_model.h5', \n",
        "                                             monitor= 'val_loss',\n",
        "                                             save_best_only=True)] \n",
        "history = model.fit(x_train, \n",
        "                    y_train, \n",
        "                    epochs=200, \n",
        "                    validation_split=0.25, \n",
        "                    batch_size=40, \n",
        "                    verbose=2, \n",
        "                    callbacks = [callbacks])"
      ],
      "execution_count": 43,
      "outputs": [
        {
          "output_type": "stream",
          "text": [
            "Epoch 1/200\n",
            "1125/1125 - 4s - loss: 0.1352 - accuracy: 0.9604 - val_loss: 0.1075 - val_accuracy: 0.9699\n",
            "Epoch 2/200\n",
            "1125/1125 - 3s - loss: 0.1335 - accuracy: 0.9610 - val_loss: 0.1067 - val_accuracy: 0.9699\n",
            "Epoch 3/200\n",
            "1125/1125 - 4s - loss: 0.1333 - accuracy: 0.9614 - val_loss: 0.1065 - val_accuracy: 0.9695\n",
            "Epoch 4/200\n",
            "1125/1125 - 3s - loss: 0.1296 - accuracy: 0.9636 - val_loss: 0.1062 - val_accuracy: 0.9699\n",
            "Epoch 5/200\n",
            "1125/1125 - 3s - loss: 0.1275 - accuracy: 0.9629 - val_loss: 0.1061 - val_accuracy: 0.9689\n",
            "Epoch 6/200\n",
            "1125/1125 - 3s - loss: 0.1255 - accuracy: 0.9634 - val_loss: 0.1061 - val_accuracy: 0.9687\n",
            "Epoch 7/200\n",
            "1125/1125 - 4s - loss: 0.1254 - accuracy: 0.9636 - val_loss: 0.1043 - val_accuracy: 0.9695\n",
            "Epoch 8/200\n",
            "1125/1125 - 3s - loss: 0.1220 - accuracy: 0.9638 - val_loss: 0.1043 - val_accuracy: 0.9699\n",
            "Epoch 9/200\n",
            "1125/1125 - 3s - loss: 0.1211 - accuracy: 0.9647 - val_loss: 0.1034 - val_accuracy: 0.9693\n",
            "Epoch 10/200\n",
            "1125/1125 - 4s - loss: 0.1201 - accuracy: 0.9650 - val_loss: 0.1022 - val_accuracy: 0.9704\n",
            "Epoch 11/200\n",
            "1125/1125 - 3s - loss: 0.1179 - accuracy: 0.9654 - val_loss: 0.1030 - val_accuracy: 0.9699\n",
            "Epoch 12/200\n",
            "1125/1125 - 3s - loss: 0.1152 - accuracy: 0.9666 - val_loss: 0.1010 - val_accuracy: 0.9695\n",
            "Epoch 13/200\n",
            "1125/1125 - 3s - loss: 0.1139 - accuracy: 0.9672 - val_loss: 0.1000 - val_accuracy: 0.9708\n",
            "Epoch 14/200\n",
            "1125/1125 - 3s - loss: 0.1121 - accuracy: 0.9677 - val_loss: 0.1001 - val_accuracy: 0.9711\n",
            "Epoch 15/200\n",
            "1125/1125 - 4s - loss: 0.1106 - accuracy: 0.9685 - val_loss: 0.0999 - val_accuracy: 0.9715\n",
            "Epoch 16/200\n",
            "1125/1125 - 4s - loss: 0.1103 - accuracy: 0.9669 - val_loss: 0.0983 - val_accuracy: 0.9711\n",
            "Epoch 17/200\n",
            "1125/1125 - 3s - loss: 0.1098 - accuracy: 0.9683 - val_loss: 0.0985 - val_accuracy: 0.9711\n",
            "Epoch 18/200\n",
            "1125/1125 - 3s - loss: 0.1068 - accuracy: 0.9686 - val_loss: 0.0976 - val_accuracy: 0.9716\n",
            "Epoch 19/200\n",
            "1125/1125 - 4s - loss: 0.1046 - accuracy: 0.9686 - val_loss: 0.0978 - val_accuracy: 0.9705\n",
            "Epoch 20/200\n",
            "1125/1125 - 4s - loss: 0.1033 - accuracy: 0.9692 - val_loss: 0.0967 - val_accuracy: 0.9717\n",
            "Epoch 21/200\n",
            "1125/1125 - 3s - loss: 0.1022 - accuracy: 0.9704 - val_loss: 0.0961 - val_accuracy: 0.9711\n",
            "Epoch 22/200\n",
            "1125/1125 - 4s - loss: 0.1003 - accuracy: 0.9698 - val_loss: 0.0953 - val_accuracy: 0.9716\n",
            "Epoch 23/200\n",
            "1125/1125 - 3s - loss: 0.1009 - accuracy: 0.9702 - val_loss: 0.0950 - val_accuracy: 0.9728\n",
            "Epoch 24/200\n",
            "1125/1125 - 4s - loss: 0.0990 - accuracy: 0.9715 - val_loss: 0.0956 - val_accuracy: 0.9726\n",
            "Epoch 25/200\n",
            "1125/1125 - 4s - loss: 0.0990 - accuracy: 0.9708 - val_loss: 0.0952 - val_accuracy: 0.9721\n",
            "Epoch 26/200\n",
            "1125/1125 - 4s - loss: 0.0972 - accuracy: 0.9711 - val_loss: 0.0949 - val_accuracy: 0.9726\n",
            "Epoch 27/200\n",
            "1125/1125 - 4s - loss: 0.0967 - accuracy: 0.9711 - val_loss: 0.0931 - val_accuracy: 0.9739\n",
            "Epoch 28/200\n",
            "1125/1125 - 3s - loss: 0.0944 - accuracy: 0.9719 - val_loss: 0.0941 - val_accuracy: 0.9733\n",
            "Epoch 29/200\n",
            "1125/1125 - 3s - loss: 0.0937 - accuracy: 0.9725 - val_loss: 0.0919 - val_accuracy: 0.9731\n",
            "Epoch 30/200\n",
            "1125/1125 - 3s - loss: 0.0917 - accuracy: 0.9727 - val_loss: 0.0925 - val_accuracy: 0.9730\n",
            "Epoch 31/200\n",
            "1125/1125 - 3s - loss: 0.0922 - accuracy: 0.9725 - val_loss: 0.0922 - val_accuracy: 0.9734\n",
            "Epoch 32/200\n",
            "1125/1125 - 3s - loss: 0.0901 - accuracy: 0.9736 - val_loss: 0.0910 - val_accuracy: 0.9731\n",
            "Epoch 33/200\n",
            "1125/1125 - 3s - loss: 0.0908 - accuracy: 0.9727 - val_loss: 0.0918 - val_accuracy: 0.9729\n",
            "Epoch 34/200\n",
            "1125/1125 - 3s - loss: 0.0894 - accuracy: 0.9740 - val_loss: 0.0911 - val_accuracy: 0.9734\n",
            "Epoch 35/200\n",
            "1125/1125 - 3s - loss: 0.0884 - accuracy: 0.9743 - val_loss: 0.0906 - val_accuracy: 0.9728\n",
            "Epoch 36/200\n",
            "1125/1125 - 3s - loss: 0.0864 - accuracy: 0.9743 - val_loss: 0.0907 - val_accuracy: 0.9739\n",
            "Epoch 37/200\n",
            "1125/1125 - 3s - loss: 0.0865 - accuracy: 0.9745 - val_loss: 0.0907 - val_accuracy: 0.9731\n",
            "Epoch 38/200\n",
            "1125/1125 - 3s - loss: 0.0861 - accuracy: 0.9745 - val_loss: 0.0896 - val_accuracy: 0.9744\n",
            "Epoch 39/200\n",
            "1125/1125 - 3s - loss: 0.0858 - accuracy: 0.9745 - val_loss: 0.0907 - val_accuracy: 0.9742\n",
            "Epoch 40/200\n",
            "1125/1125 - 3s - loss: 0.0848 - accuracy: 0.9756 - val_loss: 0.0894 - val_accuracy: 0.9744\n",
            "Epoch 41/200\n",
            "1125/1125 - 3s - loss: 0.0825 - accuracy: 0.9746 - val_loss: 0.0894 - val_accuracy: 0.9747\n",
            "Epoch 42/200\n",
            "1125/1125 - 3s - loss: 0.0832 - accuracy: 0.9746 - val_loss: 0.0892 - val_accuracy: 0.9738\n",
            "Epoch 43/200\n",
            "1125/1125 - 3s - loss: 0.0810 - accuracy: 0.9761 - val_loss: 0.0885 - val_accuracy: 0.9751\n",
            "Epoch 44/200\n",
            "1125/1125 - 3s - loss: 0.0817 - accuracy: 0.9752 - val_loss: 0.0882 - val_accuracy: 0.9744\n",
            "Epoch 45/200\n",
            "1125/1125 - 4s - loss: 0.0797 - accuracy: 0.9764 - val_loss: 0.0882 - val_accuracy: 0.9744\n",
            "Epoch 46/200\n",
            "1125/1125 - 4s - loss: 0.0795 - accuracy: 0.9765 - val_loss: 0.0878 - val_accuracy: 0.9745\n",
            "Epoch 47/200\n",
            "1125/1125 - 3s - loss: 0.0789 - accuracy: 0.9767 - val_loss: 0.0877 - val_accuracy: 0.9753\n",
            "Epoch 48/200\n",
            "1125/1125 - 3s - loss: 0.0784 - accuracy: 0.9769 - val_loss: 0.0884 - val_accuracy: 0.9747\n",
            "Epoch 49/200\n",
            "1125/1125 - 3s - loss: 0.0780 - accuracy: 0.9769 - val_loss: 0.0871 - val_accuracy: 0.9749\n",
            "Epoch 50/200\n",
            "1125/1125 - 3s - loss: 0.0768 - accuracy: 0.9769 - val_loss: 0.0865 - val_accuracy: 0.9759\n",
            "Epoch 51/200\n",
            "1125/1125 - 3s - loss: 0.0761 - accuracy: 0.9777 - val_loss: 0.0870 - val_accuracy: 0.9755\n",
            "Epoch 52/200\n",
            "1125/1125 - 3s - loss: 0.0749 - accuracy: 0.9781 - val_loss: 0.0865 - val_accuracy: 0.9758\n",
            "Epoch 53/200\n",
            "1125/1125 - 3s - loss: 0.0737 - accuracy: 0.9774 - val_loss: 0.0883 - val_accuracy: 0.9750\n",
            "Epoch 54/200\n",
            "1125/1125 - 3s - loss: 0.0749 - accuracy: 0.9774 - val_loss: 0.0855 - val_accuracy: 0.9757\n",
            "Epoch 55/200\n",
            "1125/1125 - 3s - loss: 0.0724 - accuracy: 0.9780 - val_loss: 0.0872 - val_accuracy: 0.9749\n",
            "Epoch 56/200\n",
            "1125/1125 - 3s - loss: 0.0724 - accuracy: 0.9783 - val_loss: 0.0864 - val_accuracy: 0.9757\n",
            "Epoch 57/200\n",
            "1125/1125 - 3s - loss: 0.0720 - accuracy: 0.9791 - val_loss: 0.0864 - val_accuracy: 0.9760\n",
            "Epoch 58/200\n",
            "1125/1125 - 3s - loss: 0.0709 - accuracy: 0.9783 - val_loss: 0.0861 - val_accuracy: 0.9759\n",
            "Epoch 59/200\n",
            "1125/1125 - 3s - loss: 0.0726 - accuracy: 0.9778 - val_loss: 0.0863 - val_accuracy: 0.9754\n"
          ],
          "name": "stdout"
        }
      ]
    },
    {
      "cell_type": "code",
      "metadata": {
        "id": "6R17EFBMsJKH"
      },
      "source": [
        ""
      ],
      "execution_count": null,
      "outputs": []
    }
  ]
}